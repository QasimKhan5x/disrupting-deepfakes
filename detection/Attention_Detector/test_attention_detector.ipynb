{
 "cells": [
  {
   "attachments": {},
   "cell_type": "markdown",
   "metadata": {},
   "source": [
    "### 1. Imports"
   ]
  },
  {
   "cell_type": "code",
   "execution_count": 6,
   "metadata": {},
   "outputs": [],
   "source": [
    "import torch\n",
    "from torch.utils.model_zoo import load_url\n",
    "from PIL import Image\n",
    "import matplotlib.pyplot as plt\n",
    "from architectures import fornet,weights\n",
    "from isplutils import utils\n",
    "import random\n",
    "import os\n",
    "import cv2\n",
    "from sklearn.metrics import precision_recall_fscore_support as score"
   ]
  },
  {
   "attachments": {},
   "cell_type": "markdown",
   "metadata": {},
   "source": [
    "### 2. Define global variables"
   ]
  },
  {
   "cell_type": "code",
   "execution_count": 5,
   "metadata": {},
   "outputs": [],
   "source": [
    "net_model = 'EfficientNetAutoAttB4'\n",
    "device = torch.device('cuda:5') if torch.cuda.is_available() else torch.device('cpu')\n",
    "train_db = 'DFDC'\n",
    "model_url = weights.weight_url['{:s}_{:s}'.format(net_model,train_db)]\n"
   ]
  },
  {
   "attachments": {},
   "cell_type": "markdown",
   "metadata": {},
   "source": [
    "### 3. Define and load model"
   ]
  },
  {
   "cell_type": "code",
   "execution_count": 22,
   "metadata": {},
   "outputs": [
    {
     "name": "stdout",
     "output_type": "stream",
     "text": [
      "Loaded pretrained weights for efficientnet-b4\n"
     ]
    },
    {
     "data": {
      "text/plain": [
       "<All keys matched successfully>"
      ]
     },
     "execution_count": 22,
     "metadata": {},
     "output_type": "execute_result"
    }
   ],
   "source": [
    "net = getattr(fornet,net_model)().eval().to(device)\n",
    "net.load_state_dict(load_url(model_url,map_location=device,check_hash=True))"
   ]
  },
  {
   "attachments": {},
   "cell_type": "markdown",
   "metadata": {},
   "source": [
    "### 4. Define transform and test function"
   ]
  },
  {
   "cell_type": "code",
   "execution_count": 23,
   "metadata": {},
   "outputs": [],
   "source": [
    "transf = utils.get_transformer('scale', 128, net.get_normalizer(), train=False)"
   ]
  },
  {
   "cell_type": "code",
   "execution_count": 62,
   "metadata": {},
   "outputs": [],
   "source": [
    "def detector(net, x):\n",
    "    net = net.to(device)\n",
    "    return torch.sigmoid(\n",
    "        net(\n",
    "        (transf(image=j)['image']).unsqueeze(0)\n",
    "                             .to(device))\n",
    "        )  "
   ]
  },
  {
   "attachments": {},
   "cell_type": "markdown",
   "metadata": {},
   "source": [
    "### 5. Evaluate model"
   ]
  },
  {
   "cell_type": "code",
   "execution_count": 64,
   "metadata": {},
   "outputs": [
    {
     "name": "stdout",
     "output_type": "stream",
     "text": [
      "Precision:  1.0\n",
      "Recall:  1.0\n",
      "F1-score:  1.0\n"
     ]
    }
   ],
   "source": [
    "# path to the folder containing the images\n",
    "folder_path = '/home/data/celeba/images'\n",
    "\n",
    "# get a list of all the image file names in the folder\n",
    "file_list = [f for f in os.listdir(folder_path) if f.endswith('.jpg') or f.endswith('.png')]\n",
    "\n",
    "# set random seed to make code reproducible\n",
    "random.seed(123)\n",
    "\n",
    "# generate 100 random indices between 0 and the number of images in the folder\n",
    "rand_indices = random.sample(range(len(file_list)), 100)\n",
    "\n",
    "# use the random indices to select the images\n",
    "rand_images = [file_list[i] for i in rand_indices]\n",
    "\n",
    "# load the trained model\n",
    "model = net# load your trained model here\n",
    "\n",
    "# create empty lists to store the true labels and predicted labels\n",
    "true_labels = []\n",
    "predicted_labels = []\n",
    "\n",
    "# iterate through the selected images\n",
    "for image in rand_images:\n",
    "    # read the image file\n",
    "    input = cv2.imread(os.path.join(folder_path, image))\n",
    "    # preprocess the image as required by the model\n",
    "    # e.g., resize, normalize, etc.\n",
    "    # use the model to predict the label for the image\n",
    "    prob = detector(model, input)\n",
    "    if prob < 0.5:\n",
    "        true_label = 0\n",
    "    else:\n",
    "        true_label = 1\n",
    "    # get the true label for the image (e.g., from file name or metadata)\n",
    "    # get the true label here\n",
    "    # append the true and predicted labels to the respective lists\n",
    "    true_labels.append(true_label)\n",
    "    predicted_labels.append(0)\n",
    "\n",
    "# use the sklearn.metrics.precision_recall_fscore_support function to calculate the precision, recall and F1-score\n",
    "precision, recall, f1, _ = score(true_labels, predicted_labels, average='macro', zero_division=1)\n",
    "\n",
    "# print the results\n",
    "print(\"Precision: \", precision)\n",
    "print(\"Recall: \", recall)\n",
    "print(\"F1-score: \", f1)\n"
   ]
  },
  {
   "cell_type": "code",
   "execution_count": null,
   "metadata": {},
   "outputs": [],
   "source": []
  }
 ],
 "metadata": {
  "kernelspec": {
   "display_name": "detector",
   "language": "python",
   "name": "python3"
  },
  "language_info": {
   "codemirror_mode": {
    "name": "ipython",
    "version": 3
   },
   "file_extension": ".py",
   "mimetype": "text/x-python",
   "name": "python",
   "nbconvert_exporter": "python",
   "pygments_lexer": "ipython3",
   "version": "3.8.16 (default, Jan 17 2023, 23:13:24) \n[GCC 11.2.0]"
  },
  "orig_nbformat": 4,
  "vscode": {
   "interpreter": {
    "hash": "b69dbe56523732cdaad46a7600ae832abb88835ddef773d045940505d267f313"
   }
  }
 },
 "nbformat": 4,
 "nbformat_minor": 2
}
